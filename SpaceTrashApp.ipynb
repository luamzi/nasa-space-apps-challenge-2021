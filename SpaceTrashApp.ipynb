{
  "nbformat": 4,
  "nbformat_minor": 0,
  "metadata": {
    "colab": {
      "name": "SpaceTrashApp.ipynb",
      "provenance": [],
      "collapsed_sections": []
    },
    "kernelspec": {
      "name": "python3",
      "display_name": "Python 3"
    },
    "language_info": {
      "name": "python"
    }
  },
  "cells": [
    {
      "cell_type": "code",
      "metadata": {
        "colab": {
          "base_uri": "https://localhost:8080/"
        },
        "id": "bXVDIyrzKqc5",
        "outputId": "6e2d14d4-ad7b-4cd2-df6e-15319f83cee8"
      },
      "source": [
        "!pip install sgp4\n",
        "!pip install spacetrack\n",
        "!pip install pandas\n",
        "!pip install astropy"
      ],
      "execution_count": 2,
      "outputs": [
        {
          "output_type": "stream",
          "name": "stdout",
          "text": [
            "Requirement already satisfied: sgp4 in /usr/local/lib/python3.7/dist-packages (2.20)\n",
            "Requirement already satisfied: spacetrack in /usr/local/lib/python3.7/dist-packages (0.16.0)\n",
            "Requirement already satisfied: represent>=1.4.0 in /usr/local/lib/python3.7/dist-packages (from spacetrack) (1.6.0.post0)\n",
            "Requirement already satisfied: rush in /usr/local/lib/python3.7/dist-packages (from spacetrack) (2021.4.0)\n",
            "Requirement already satisfied: logbook>=0.12.3 in /usr/local/lib/python3.7/dist-packages (from spacetrack) (1.5.3)\n",
            "Requirement already satisfied: requests in /usr/local/lib/python3.7/dist-packages (from spacetrack) (2.23.0)\n",
            "Requirement already satisfied: python-dateutil in /usr/local/lib/python3.7/dist-packages (from spacetrack) (2.8.2)\n",
            "Requirement already satisfied: six>=1.8.0 in /usr/local/lib/python3.7/dist-packages (from represent>=1.4.0->spacetrack) (1.15.0)\n",
            "Requirement already satisfied: idna<3,>=2.5 in /usr/local/lib/python3.7/dist-packages (from requests->spacetrack) (2.10)\n",
            "Requirement already satisfied: chardet<4,>=3.0.2 in /usr/local/lib/python3.7/dist-packages (from requests->spacetrack) (3.0.4)\n",
            "Requirement already satisfied: certifi>=2017.4.17 in /usr/local/lib/python3.7/dist-packages (from requests->spacetrack) (2021.5.30)\n",
            "Requirement already satisfied: urllib3!=1.25.0,!=1.25.1,<1.26,>=1.21.1 in /usr/local/lib/python3.7/dist-packages (from requests->spacetrack) (1.24.3)\n",
            "Requirement already satisfied: attrs>=18.1.0 in /usr/local/lib/python3.7/dist-packages (from rush->spacetrack) (21.2.0)\n",
            "Requirement already satisfied: pandas in /usr/local/lib/python3.7/dist-packages (1.1.5)\n",
            "Requirement already satisfied: numpy>=1.15.4 in /usr/local/lib/python3.7/dist-packages (from pandas) (1.19.5)\n",
            "Requirement already satisfied: python-dateutil>=2.7.3 in /usr/local/lib/python3.7/dist-packages (from pandas) (2.8.2)\n",
            "Requirement already satisfied: pytz>=2017.2 in /usr/local/lib/python3.7/dist-packages (from pandas) (2018.9)\n",
            "Requirement already satisfied: six>=1.5 in /usr/local/lib/python3.7/dist-packages (from python-dateutil>=2.7.3->pandas) (1.15.0)\n"
          ]
        }
      ]
    },
    {
      "cell_type": "code",
      "metadata": {
        "id": "ttfoZYoYP9Z3"
      },
      "source": [
        "import datetime\n",
        "from sgp4.api import jday\n",
        "from sgp4.api import Satrec\n",
        "import pandas as pd\n",
        "\n",
        "import spacetrack.operators as op\n",
        "from spacetrack import SpaceTrackClient\n",
        "\n",
        "st = SpaceTrackClient(identity='hitalo.c.a@gmail.com', password='EuMeChamoHitalo2000!')"
      ],
      "execution_count": 3,
      "outputs": []
    },
    {
      "cell_type": "code",
      "metadata": {
        "colab": {
          "base_uri": "https://localhost:8080/"
        },
        "id": "k_cbod5tW7Rj",
        "outputId": "9d804f49-18c4-4761-997c-5009993e2272"
      },
      "source": [
        "!ls"
      ],
      "execution_count": 4,
      "outputs": [
        {
          "output_type": "stream",
          "name": "stdout",
          "text": [
            "sample_data  tle_latest.txt\n"
          ]
        }
      ]
    },
    {
      "cell_type": "code",
      "metadata": {
        "id": "5Nn08WRWSKpM"
      },
      "source": [
        "data = st.tle_latest(iter_lines=True, ordinal=1, epoch='>now-30',\n",
        "                     mean_motion=op.inclusive_range(2, 5),\n",
        "                     eccentricity=op.less_than(0.01), format='tle')\n",
        "\n",
        "with open('tle_latest.txt', 'w') as fp:\n",
        "    for line in data:\n",
        "        fp.write(line + '\\n')"
      ],
      "execution_count": 5,
      "outputs": []
    },
    {
      "cell_type": "code",
      "metadata": {
        "id": "ydgajVjaSyxE"
      },
      "source": [
        "tle_latest = pd.read_csv(\"tle_latest.txt\", header=None)\n",
        "\n",
        "s_array = tle_latest[tle_latest.index%2 == 0].values.tolist()\n",
        "t_array = tle_latest[tle_latest.index%2 != 0].values.tolist()"
      ],
      "execution_count": 6,
      "outputs": []
    },
    {
      "cell_type": "code",
      "metadata": {
        "colab": {
          "base_uri": "https://localhost:8080/",
          "height": 35
        },
        "id": "sBtj5JVST1jU",
        "outputId": "dd6d7653-2097-4ade-af38-108f7ea666cb"
      },
      "source": [
        "s_array[0][0]\n",
        "t_array[0][0]"
      ],
      "execution_count": 7,
      "outputs": [
        {
          "output_type": "execute_result",
          "data": {
            "application/vnd.google.colaboratory.intrinsic+json": {
              "type": "string"
            },
            "text/plain": [
              "'2 07369 125.1211  60.0806 0068766 332.6582 344.8546  3.07215005529779'"
            ]
          },
          "metadata": {},
          "execution_count": 7
        }
      ]
    },
    {
      "cell_type": "code",
      "metadata": {
        "id": "Jmt36jdE7N_H",
        "colab": {
          "base_uri": "https://localhost:8080/"
        },
        "outputId": "796dba92-c07c-453c-9dd8-00b443658eac"
      },
      "source": [
        "s = '1 25544U 98067A   19343.69339541  .00001764  00000-0  38792-4 0  9991'\n",
        "t = '2 25544  51.6439 211.2001 0007417  17.6667  85.6398 15.50103472202482'\n",
        "s = s_array[0][0]\n",
        "t = t_array[0][0]\n",
        "satellite = Satrec.twoline2rv(s, t)\n",
        "\n",
        "current_time = datetime.datetime.now()\n",
        "jd, fr = jday(current_time.year, current_time.month, current_time.day, current_time.hour, current_time.minute, current_time.second)\n",
        "\n",
        "e, r, v = satellite.sgp4(jd, fr)\n",
        "print(e)\n",
        "\n",
        "print(r)  # True Equator Mean Equinox position (km)\n",
        "\n",
        "print(v)  # True Equator Mean Equinox velocity (km/s)\n",
        "from sgp4.api import SGP4_ERRORS\n",
        "print(SGP4_ERRORS)"
      ],
      "execution_count": 8,
      "outputs": [
        {
          "output_type": "stream",
          "name": "stdout",
          "text": [
            "0\n",
            "(11923.129644787927, -1786.9044453955078, 15977.489604591025)\n",
            "(-1.6568741147021395, -4.058091744141413, 0.8193698952354813)\n",
            "{1: 'mean eccentricity is outside the range 0.0 to 1.0', 2: 'nm is less than zero', 3: 'perturbed eccentricity is outside the range 0.0 to 1.0', 4: 'semilatus rectum is less than zero', 5: '(error 5 no longer in use; it meant the satellite was underground)', 6: 'mrt is less than 1.0 which indicates the satellite has decayed'}\n"
          ]
        }
      ]
    },
    {
      "cell_type": "markdown",
      "metadata": {
        "id": "fsJRBhtNHqns"
      },
      "source": [
        "## Convert position in True Equator Mean Equinox (TEME) to Latitude and Longitude { World Geodetic System (WGS)}"
      ]
    },
    {
      "cell_type": "code",
      "metadata": {
        "colab": {
          "base_uri": "https://localhost:8080/"
        },
        "id": "JUR_t7XTKpDL",
        "outputId": "139a8427-83f0-4599-f697-dc0b02171c51"
      },
      "source": [
        "from astropy.time import Time\n",
        "################ IMPORTANTE ##################################\n",
        "# Esse jd é o tempo obtido na célula anterior\n",
        "##############################################################\n",
        "t = Time(jd, format='jd')\n",
        "print(t)\n",
        "error_code, teme_p, teme_v = satellite.sgp4(t.jd1, t.jd2)  # in km and km/s\n",
        "if error_code != 0:\n",
        "    raise RuntimeError(SGP4_ERRORS[error_code])\n",
        "teme_p = r\n",
        "teme_v = v\n",
        "\n",
        "from astropy.coordinates import TEME, CartesianDifferential, CartesianRepresentation\n",
        "from astropy import units as u\n",
        "teme_p = CartesianRepresentation(teme_p*u.km)\n",
        "teme_v = CartesianDifferential(teme_v*u.km/u.s)\n",
        "teme = TEME(teme_p.with_differentials(teme_v), obstime=t)\n",
        "\n",
        "from astropy.coordinates import ITRS\n",
        "itrs = teme.transform_to(ITRS(obstime=t))  \n",
        "location = itrs.earth_location\n",
        "location.geodetic  "
      ],
      "execution_count": 26,
      "outputs": [
        {
          "output_type": "stream",
          "name": "stdout",
          "text": [
            "2459489.5\n"
          ]
        },
        {
          "output_type": "execute_result",
          "data": {
            "text/plain": [
              "GeodeticLocation(lon=<Longitude -19.45918017 deg>, lat=<Latitude 53.02131736 deg>, height=<Quantity 13651.34061498 km>)"
            ]
          },
          "metadata": {},
          "execution_count": 26
        }
      ]
    },
    {
      "cell_type": "code",
      "metadata": {
        "colab": {
          "base_uri": "https://localhost:8080/"
        },
        "id": "3g4jFhSy7WCs",
        "outputId": "e1580191-acbb-4ce9-8830-3eb56a3e8838"
      },
      "source": [
        " #jd"
      ],
      "execution_count": 10,
      "outputs": [
        {
          "output_type": "execute_result",
          "data": {
            "text/plain": [
              "2459489.5"
            ]
          },
          "metadata": {},
          "execution_count": 10
        }
      ]
    },
    {
      "cell_type": "code",
      "metadata": {
        "colab": {
          "base_uri": "https://localhost:8080/"
        },
        "id": "vWMynqnFHS-e",
        "outputId": "88b6f4cb-2fee-4965-f308-9aed6cccf043"
      },
      "source": [
        "print(location.geodetic.lon)"
      ],
      "execution_count": 23,
      "outputs": [
        {
          "output_type": "stream",
          "name": "stdout",
          "text": [
            "-19d27m33.04861868s\n"
          ]
        }
      ]
    },
    {
      "cell_type": "code",
      "metadata": {
        "colab": {
          "base_uri": "https://localhost:8080/"
        },
        "id": "B7q8PnlB83qP",
        "outputId": "3b042592-d475-483b-dafa-edf47e5f28fb"
      },
      "source": [
        "!wget https://gist.githubusercontent.com/MatheusCod/995376a7e0b40e31534ffe08894f8bdd/raw/455234a61c1b4dd95340d28b334b2479c9d07e6c/helloWorldWind.js\n",
        "!wget https://gist.githubusercontent.com/MatheusCod/995376a7e0b40e31534ffe08894f8bdd/raw/455234a61c1b4dd95340d28b334b2479c9d07e6c/index.html"
      ],
      "execution_count": 15,
      "outputs": [
        {
          "output_type": "stream",
          "name": "stdout",
          "text": [
            "--2021-10-02 17:39:28--  https://gist.githubusercontent.com/MatheusCod/995376a7e0b40e31534ffe08894f8bdd/raw/455234a61c1b4dd95340d28b334b2479c9d07e6c/helloWorldWind.js\n",
            "Resolving gist.githubusercontent.com (gist.githubusercontent.com)... 185.199.108.133, 185.199.109.133, 185.199.110.133, ...\n",
            "Connecting to gist.githubusercontent.com (gist.githubusercontent.com)|185.199.108.133|:443... connected.\n",
            "HTTP request sent, awaiting response... 200 OK\n",
            "Length: 1239 (1.2K) [text/plain]\n",
            "Saving to: ‘helloWorldWind.js’\n",
            "\n",
            "helloWorldWind.js   100%[===================>]   1.21K  --.-KB/s    in 0s      \n",
            "\n",
            "2021-10-02 17:39:29 (49.7 MB/s) - ‘helloWorldWind.js’ saved [1239/1239]\n",
            "\n",
            "--2021-10-02 17:39:29--  https://gist.githubusercontent.com/MatheusCod/995376a7e0b40e31534ffe08894f8bdd/raw/455234a61c1b4dd95340d28b334b2479c9d07e6c/index.html\n",
            "Resolving gist.githubusercontent.com (gist.githubusercontent.com)... 185.199.108.133, 185.199.109.133, 185.199.110.133, ...\n",
            "Connecting to gist.githubusercontent.com (gist.githubusercontent.com)|185.199.108.133|:443... connected.\n",
            "HTTP request sent, awaiting response... 200 OK\n",
            "Length: 479 [text/plain]\n",
            "Saving to: ‘index.html’\n",
            "\n",
            "index.html          100%[===================>]     479  --.-KB/s    in 0s      \n",
            "\n",
            "2021-10-02 17:39:29 (20.1 MB/s) - ‘index.html’ saved [479/479]\n",
            "\n"
          ]
        }
      ]
    },
    {
      "cell_type": "code",
      "metadata": {
        "id": "0QiXAOyaG3GN"
      },
      "source": [
        ""
      ],
      "execution_count": null,
      "outputs": []
    },
    {
      "cell_type": "code",
      "metadata": {
        "id": "RY5M2jJ98_vu",
        "colab": {
          "base_uri": "https://localhost:8080/",
          "height": 34
        },
        "outputId": "8de64337-be6c-486e-fbe9-bbef6ba76017"
      },
      "source": [
        "from google.colab.output import eval_js\n",
        "print(eval_js(\"google.colab.kernel.proxyPort(80)\"))"
      ],
      "execution_count": 19,
      "outputs": [
        {
          "output_type": "stream",
          "name": "stdout",
          "text": [
            "https://8rex9i93s3x-496ff2e9c6d22116-80-colab.googleusercontent.com/\n"
          ]
        }
      ]
    },
    {
      "cell_type": "code",
      "metadata": {
        "colab": {
          "base_uri": "https://localhost:8080/"
        },
        "id": "Pdz8bPX9E6Vt",
        "outputId": "a9eb7d74-4fa2-4259-a660-c7576c79d5c0"
      },
      "source": [
        "!python -m http.server 8000"
      ],
      "execution_count": 17,
      "outputs": [
        {
          "output_type": "stream",
          "name": "stdout",
          "text": [
            "Serving HTTP on 0.0.0.0 port 8000 (http://0.0.0.0:8000/) ...\n",
            "127.0.0.1 - - [02/Oct/2021 17:39:45] \"GET / HTTP/1.1\" 200 -\n",
            "127.0.0.1 - - [02/Oct/2021 17:39:46] \"GET /helloWorldWind.js HTTP/1.1\" 200 -\n",
            "127.0.0.1 - - [02/Oct/2021 17:39:47] code 404, message File not found\n",
            "127.0.0.1 - - [02/Oct/2021 17:39:47] \"GET /favicon.ico HTTP/1.1\" 404 -\n",
            "\n",
            "Keyboard interrupt received, exiting.\n",
            "^C\n"
          ]
        }
      ]
    },
    {
      "cell_type": "code",
      "metadata": {
        "id": "8dR02sgSGoRx"
      },
      "source": [
        ""
      ],
      "execution_count": null,
      "outputs": []
    }
  ]
}